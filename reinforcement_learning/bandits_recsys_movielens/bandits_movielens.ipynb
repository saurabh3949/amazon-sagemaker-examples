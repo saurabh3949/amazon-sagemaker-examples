{
 "cells": [
  {
   "cell_type": "markdown",
   "metadata": {},
   "source": [
    "# Contextual Bandits with Parametric Actions in Amazon SageMaker RL\n",
    "\n",
    "We demonstrate how you can use varying number of actions with contextual bandits algorithms in SageMaker. This notebook builds on the [Contextual Bandits example notebook](https://github.com/awslabs/amazon-sagemaker-examples/blob/master/reinforcement_learning/rl_hvac_coach_energyplus/rl_hvac_coach_energyplus.ipynb) which used fixed number of actions. Please refer to that notebook for basics on contextual bandits and the workflow used to train bandit policies in SageMaker. \n",
    "\n",
    "In the contextual bandit setting, an agent recommends an action given a state. This notebook introduces three features to bandit algorithms that makes them applicable to a broader set of real-world problems. We use the movie recommendation problem as an example.\n",
    "1. The number of actions available to the agent can change over time. For example, the movies in the catalog changes over time. \n",
    "2. Each action may have features associated with it. For the movie recommendation problem, each movie can have features such as genre, cast, etc. \n",
    "3. The agent can pick multiple actions. When recommending movies, it is natural that multiple movies are recommended at a time.\n",
    "\n",
    "The contextual bandit agent will trade-off between exploitation and exploration to quickly learn user preferences and minimize poor recommendations. The bandit algorithms are appropriate to use in recommendation problems when there are many cold items (items which have no or little interaction data) in the catalog or if user preferences change over time. "
   ]
  },
  {
   "cell_type": "markdown",
   "metadata": {},
   "source": [
    "<p align=\"center\">\n",
    "  <img src=\"workflow.png\">\n",
    "</p>"
   ]
  },
  {
   "cell_type": "markdown",
   "metadata": {},
   "source": [
    "The contextual bandit training workflow is controlled by an experiment manager provided with this example. The client application (say a recommender system application) pings the SageMaker hosting endpoint that is serving the bandits model. The application sends the state (user features) as input and receives an action (recommendation) as a response. The client application sends the recommended action to the user and stores the received reward in S3. The SageMaker hosted endpoint also stores inference data (state and action) in S3. The experiment manager joins the inference data with rewards as they become available. The joined data is used to update the model with a SageMaker training job. The updated model is evaluated offline and deployed to SageMaker hosting endpoint if the model evaluation score improves upon prior models. \n",
    "\n",
    "Below is an overview of the subsequent cells in the notebook: \n",
    "* Configuration: this includes details related to SageMaker and other AWS resources needed for the bandits application. \n",
    "* IAM role setup: this creates appropriate execution role and shows how to add more permissions to the role, needed for specific AWS resources.\n",
    "* Client application (Environment): this shows the simulated client application.\n",
    "* Step-by-step bandits model development: \n",
    " 1. Model Initialization (random or warm-start) \n",
    " 2. Deploy the First Model \n",
    " 3. Initialize the Client Application \n",
    " 4. Reward Ingestion \n",
    " 5. Model Re-training and Re-deployment \n",
    "* Bandits model deployment with the end-to-end loop. \n",
    "* Visualization \n",
    "* Cleanup "
   ]
  },
  {
   "cell_type": "markdown",
   "metadata": {},
   "source": [
    "#### Local Mode\n",
    "\n",
    "To facilitate experimentation, we provide a `local_mode` that runs the contextual bandit example using the SageMaker Notebook instance itself instead of SageMaker training and hosting instances. The workflow remains the same in `local_mode`, but runs much faster for small datasets. Hence, it is a useful tool for experimentation and debugging. However, it will not scale to production use cases with high throughput and large datasets. \n",
    "\n",
    "In `local_mode`, the training, evaluation and hosting is done with the SageMaker VW docker container. The join is not handled by SageMaker, and is done inside the client application. The rest of the textual explanation assumes that the notebook is run in SageMaker mode."
   ]
  },
  {
   "cell_type": "code",
   "execution_count": 1,
   "metadata": {},
   "outputs": [],
   "source": [
    "import yaml\n",
    "import sys\n",
    "import numpy as np\n",
    "import time\n",
    "import sagemaker\n",
    "sys.path.append('common')\n",
    "sys.path.append('common/sagemaker_rl')\n",
    "from misc import get_execution_role\n",
    "from markdown_helper import *\n",
    "from IPython.display import Markdown"
   ]
  },
  {
   "cell_type": "code",
   "execution_count": 2,
   "metadata": {},
   "outputs": [],
   "source": [
    "import os\n",
    "import json"
   ]
  },
  {
   "cell_type": "markdown",
   "metadata": {},
   "source": [
    "### Configuration\n",
    "\n",
    "The configuration for the bandits application can be specified in a `config.yaml` file as can be seen below. It configures the AWS resources needed. The DynamoDB tables are used to store metadata related to experiments, models and data joins. The `private_resource` specifices the SageMaker instance types and counts used for training, evaluation and hosting. The SageMaker container image is used for the bandits application. This config file also contains algorithm and SageMaker-specific setups.  Note that all the data generated and used for the bandits application will be stored in `S3://SageMaker-{REGION}-{AWS_ACCOUNT_ID}/{experiment_id}/`."
   ]
  },
  {
   "cell_type": "code",
   "execution_count": 3,
   "metadata": {},
   "outputs": [],
   "source": [
    "# !pygmentize 'config.yaml'\n",
    "config_file = 'config.yaml'\n",
    "with open(config_file, 'r') as yaml_file:\n",
    "    config = yaml.load(yaml_file)"
   ]
  },
  {
   "cell_type": "markdown",
   "metadata": {},
   "source": [
    "> Please make sure that the `num_arms` parameter in the config is equal to the number of actions in the client application (which is defined in the cell below)."
   ]
  },
  {
   "cell_type": "markdown",
   "metadata": {},
   "source": [
    "### IAM role setup\n",
    "Either get the execution role when running from a SageMaker notebook `role = sagemaker.get_execution_role()` or, when running from local machine, use `utils` method `role = get_execution_role('role_name')` to create an execution role."
   ]
  },
  {
   "cell_type": "code",
   "execution_count": 4,
   "metadata": {},
   "outputs": [
    {
     "name": "stderr",
     "output_type": "stream",
     "text": [
      "Couldn't call 'get_role' to get Role ARN from role name gsaur to get Role path.\n"
     ]
    },
    {
     "name": "stdout",
     "output_type": "stream",
     "text": [
      "Using Sagemaker IAM role arn: \n",
      "arn:aws:iam::609956480270:role/sagemaker\n"
     ]
    }
   ],
   "source": [
    "try:\n",
    "    sagemaker_role = sagemaker.get_execution_role()\n",
    "except:\n",
    "    sagemaker_role = get_execution_role('sagemaker')\n",
    "\n",
    "print(\"Using Sagemaker IAM role arn: \\n{}\".format(sagemaker_role))"
   ]
  },
  {
   "cell_type": "markdown",
   "metadata": {},
   "source": [
    "#### Additional permissions for the IAM role\n",
    "IAM role requires additional permissions for [AWS CloudFormation](https://aws.amazon.com/cloudformation/), [Amazon DynamoDB](https://aws.amazon.com/dynamodb/), [Amazon Kinesis Data Firehose](https://aws.amazon.com/kinesis/data-firehose/) and [Amazon Athena](https://aws.amazon.com/athena/). Make sure the SageMaker role you are using has the permissions."
   ]
  },
  {
   "cell_type": "code",
   "execution_count": 5,
   "metadata": {},
   "outputs": [
    {
     "data": {
      "text/markdown": [
       ">It looks like your SageMaker role has insufficient premissions. Please do the following:\n",
       "1. Go to IAM console to edit current SageMaker role: [sagemaker](https://console.aws.amazon.com/iam/home#/roles/sagemaker).\n",
       "2. Click on policy starting with `AmazonSageMaker-ExecutionPolicy` and then edit policy.\n",
       "3. Go to JSON tab, add the following JSON blob to the `Statement` list and save policy:\n",
       "```json\n",
       "        {\n",
       "            \"Effect\": \"Allow\",\n",
       "            \"Action\": [\n",
       "                \"firehose:*\",\n",
       "                \"cloudformation:*\",\n",
       "                \"dynamodb:*\",\n",
       "                \"iam:*\",\n",
       "                \"cloudwatch:*\",\n",
       "                \"glue:*\",\n",
       "                \"athena:*\"\n",
       "            ],\n",
       "            \"Resource\": [\n",
       "                \"*\"\n",
       "            ]\n",
       "        },```\n",
       "4. Now wait for a few minutes before executing this cell again!"
      ],
      "text/plain": [
       "<IPython.core.display.Markdown object>"
      ]
     },
     "metadata": {},
     "output_type": "display_data"
    }
   ],
   "source": [
    "display(Markdown(generate_help_for_experiment_manager_permissions(sagemaker_role)))"
   ]
  },
  {
   "cell_type": "markdown",
   "metadata": {},
   "source": [
    "### Client application (MovieLens Environment)\n",
    "The client application simulates a live environment that uses the SageMaker bandits model to serve recommendations to users. The logic of reward generation resides in the client application. We simulate the online learning loop with feedback using a recommendation simulator. The simulator uses MovieLens 100k dataset.\n",
    "\n",
    "The workflow of the client application is as follows:\n",
    "- **User sampling and candidate list generation**: The client application picks a user u and a list of 100 items (define by item_pool_size) at random, which is sent to the SageMaker endpoint for retrieving a recommendation. This list consists of the movies that the user u has rated in the past, as we know the true user preferences (ratings) for these movies.\n",
    "- **Bandit Slate recommendation**: SageMaker endpoint returns a recommendation - a list of top-k items, associated probability and `event_id`.\n",
    "- **Feedback generation by simulating user behaviour**: The reward is given to the agent based on user ratings in the dataset. We assume a Cascade Click model, where the user scans the list top-down, and clicks on the item that she likes. We give a reward of 0 to all the items above the clicked item and a reward to 1 to the item that was clicked.\n",
    "- **Rewards logging**: The application reports the reward to the experiment manager using S3, along with the corresponding `event_id`.\n",
    "\n",
    "`event_id` is a unique identifier for each interaction. It is used to join inference data `<shared_context, actions_context, action, action probability>` with the rewards. \n",
    "\n",
    "In a later cell of this notebook, where there exists a hosted endpoint, we illustrate how to interact with the endpoint and get the recommended actions."
   ]
  },
  {
   "cell_type": "markdown",
   "metadata": {},
   "source": [
    "#### MovieLens 100K usage license\n",
    "Please be aware of the following requirements regarding acknowledgment, copyright and availability, cited from the [data set description page](http://files.grouplens.org/datasets/movielens/ml-100k-README.txt).\n",
    "\n",
    "The data set may be used for any research purposes under the following conditions:\n",
    "\n",
    " * The user may not state or imply any endorsement from the\n",
    "   University of Minnesota or the GroupLens Research Group.\n",
    " * The user must acknowledge the use of the data set in\n",
    "   publications resulting from the use of the data set\n",
    "   (see below for citation information).\n",
    " * The user may not redistribute the data without separate\n",
    "   permission.\n",
    " * The user may not use this information for any commercial or\n",
    "   revenue-bearing purposes without first obtaining permission\n",
    "   from a faculty member of the GroupLens Research Project at the\n",
    "   University of Minnesota.\n",
    "   \n",
    "If you have any further questions or comments, please contact GroupLens (grouplens-info@cs.umn.edu)."
   ]
  },
  {
   "cell_type": "markdown",
   "metadata": {},
   "source": [
    "##### Download the dataset"
   ]
  },
  {
   "cell_type": "code",
   "execution_count": null,
   "metadata": {},
   "outputs": [],
   "source": [
    "%%bash\n",
    "\n",
    "curl -o ml-100k.zip http://files.grouplens.org/datasets/movielens/ml-100k.zip\n",
    "unzip ml-100k.zip\n",
    "rm ml-100k.zip"
   ]
  },
  {
   "cell_type": "markdown",
   "metadata": {},
   "source": [
    "##### Initialize the environment"
   ]
  },
  {
   "cell_type": "code",
   "execution_count": 5,
   "metadata": {},
   "outputs": [],
   "source": [
    "from src.env import MovieLens100KEnv"
   ]
  },
  {
   "cell_type": "markdown",
   "metadata": {},
   "source": [
    "##### Environment Arguments  \n",
    "\n",
    "- **top_k**: The size of the slate or the number of items that the agent will recommend. The environment\n",
    "needs this to calculate the optimal expected reward.\n",
    "- **item_pool_size**: The size of candidate list - environment will randomly select\n",
    "these many items from the movies that the user has rated in the dataset. If None,\n",
    "environment will use all the movies rated by the user.  \n",
    "- **max_users**: The environment will sample from `max_users` only. If set to None,\n",
    "all users i.e. 943 will be used for sampling. This parameter can be used to \n",
    "simplify the learning problem.\n"
   ]
  },
  {
   "cell_type": "code",
   "execution_count": 13,
   "metadata": {},
   "outputs": [],
   "source": [
    "top_k = 5  # Bandit will recommend a list of 5 movies to every user\n",
    "item_pool_size = 100\n",
    "\n",
    "env = MovieLens100KEnv(data_dir=\"./ml-100k\",\n",
    "                       item_pool_size=item_pool_size,\n",
    "                       top_k=top_k,\n",
    "                       max_users=100)"
   ]
  },
  {
   "cell_type": "markdown",
   "metadata": {},
   "source": [
    "### Step-by-step bandits model development\n",
    "\n",
    "`ExperimentManager` is the top level class for all the Bandits/RL and continual learning workflows. Similar to the estimators in the [Sagemaker Python SDK](https://github.com/aws/sagemaker-python-sdk), `ExperimentManager` contains methods for training, deployment and evaluation. It keeps track of the job status and reflects current progress in the workflow.\n",
    "\n",
    "Start the application using the `ExperimentManager` class "
   ]
  },
  {
   "cell_type": "code",
   "execution_count": 14,
   "metadata": {},
   "outputs": [],
   "source": [
    "from orchestrator.workflow.manager.experiment_manager import ExperimentManager"
   ]
  },
  {
   "cell_type": "markdown",
   "metadata": {},
   "source": [
    " The initialization below will set up an AWS CloudFormation stack of additional resources. "
   ]
  },
  {
   "cell_type": "code",
   "execution_count": 15,
   "metadata": {},
   "outputs": [
    {
     "name": "stderr",
     "output_type": "stream",
     "text": [
      "INFO:orchestrator.resource_manager:Using Resources in CloudFormation stack named: BanditsSharedResourceStackSG for Shared Resources.\n",
      "WARNING:orchestrator:Experiment with name bandits-movielens-3 already exists. Reusing current state from ExperimentDb.\n"
     ]
    }
   ],
   "source": [
    "# model_id length cannot exceed 63 characters under SM mode.\n",
    "# evaluation job name will include timestamp in addition to train job name.\n",
    "# So, make experimend_id as short as possible\n",
    "experiment_name = \"bandits-movielens-3\"\n",
    "bandits_experiment = ExperimentManager(config, experiment_id=experiment_name)"
   ]
  },
  {
   "cell_type": "markdown",
   "metadata": {},
   "source": [
    "#### 1. Model Initialization"
   ]
  },
  {
   "cell_type": "markdown",
   "metadata": {},
   "source": [
    "To start a new experiment, we need to initialize the first model. In the case where historical data is available and is in the format of `<state, action, action probability, reward>`, we can warm start by learning the policy offline. Otherwise, we can initiate a random policy."
   ]
  },
  {
   "cell_type": "markdown",
   "metadata": {},
   "source": [
    "Here, let us start from scratch by initializing a random model."
   ]
  },
  {
   "cell_type": "code",
   "execution_count": 16,
   "metadata": {},
   "outputs": [
    {
     "name": "stderr",
     "output_type": "stream",
     "text": [
      "INFO:orchestrator:Next Model name would be bandits-movielens-3-model-id-1574805631\n",
      "INFO:orchestrator:Start training job for model 'bandits-movielens-3-model-id-1574805631''\n",
      "INFO:orchestrator:Training job will be executed in 'local' mode\n"
     ]
    },
    {
     "name": "stdout",
     "output_type": "stream",
     "text": [
      "Creating tmpq54systp_algo-1-5ifjj_1_d4b5f4681d54 ... \n",
      "\u001b[1BAttaching to tmpq54systp_algo-1-5ifjj_1_5626eae89128\n",
      "\u001b[36malgo-1-5ifjj_1_5626eae89128 |\u001b[0m 2019-11-26 22:00:35,974 sagemaker-containers INFO     No GPUs detected (normal if no gpus installed)\n",
      "\u001b[36malgo-1-5ifjj_1_5626eae89128 |\u001b[0m 2019-11-26 22:00:36,026 sagemaker-containers INFO     No GPUs detected (normal if no gpus installed)\n",
      "\u001b[36malgo-1-5ifjj_1_5626eae89128 |\u001b[0m 2019-11-26 22:00:36,070 sagemaker-containers INFO     No GPUs detected (normal if no gpus installed)\n",
      "\u001b[36malgo-1-5ifjj_1_5626eae89128 |\u001b[0m 2019-11-26 22:00:36,092 sagemaker-containers INFO     Invoking user script\n",
      "\u001b[36malgo-1-5ifjj_1_5626eae89128 |\u001b[0m \n",
      "\u001b[36malgo-1-5ifjj_1_5626eae89128 |\u001b[0m Training Env:\n",
      "\u001b[36malgo-1-5ifjj_1_5626eae89128 |\u001b[0m \n",
      "\u001b[36malgo-1-5ifjj_1_5626eae89128 |\u001b[0m {\n",
      "\u001b[36malgo-1-5ifjj_1_5626eae89128 |\u001b[0m     \"additional_framework_parameters\": {\n",
      "\u001b[36malgo-1-5ifjj_1_5626eae89128 |\u001b[0m         \"sagemaker_estimator\": \"RLEstimator\"\n",
      "\u001b[36malgo-1-5ifjj_1_5626eae89128 |\u001b[0m     },\n",
      "\u001b[36malgo-1-5ifjj_1_5626eae89128 |\u001b[0m     \"channel_input_dirs\": {},\n",
      "\u001b[36malgo-1-5ifjj_1_5626eae89128 |\u001b[0m     \"current_host\": \"algo-1-5ifjj\",\n",
      "\u001b[36malgo-1-5ifjj_1_5626eae89128 |\u001b[0m     \"framework_module\": null,\n",
      "\u001b[36malgo-1-5ifjj_1_5626eae89128 |\u001b[0m     \"hosts\": [\n",
      "\u001b[36malgo-1-5ifjj_1_5626eae89128 |\u001b[0m         \"algo-1-5ifjj\"\n",
      "\u001b[36malgo-1-5ifjj_1_5626eae89128 |\u001b[0m     ],\n",
      "\u001b[36malgo-1-5ifjj_1_5626eae89128 |\u001b[0m     \"hyperparameters\": {\n",
      "\u001b[36malgo-1-5ifjj_1_5626eae89128 |\u001b[0m         \"exploration_policy\": \"regcbopt\",\n",
      "\u001b[36malgo-1-5ifjj_1_5626eae89128 |\u001b[0m         \"epsilon\": 0.01,\n",
      "\u001b[36malgo-1-5ifjj_1_5626eae89128 |\u001b[0m         \"num_policies\": 3,\n",
      "\u001b[36malgo-1-5ifjj_1_5626eae89128 |\u001b[0m         \"arm_features\": true,\n",
      "\u001b[36malgo-1-5ifjj_1_5626eae89128 |\u001b[0m         \"num_arms\": 7,\n",
      "\u001b[36malgo-1-5ifjj_1_5626eae89128 |\u001b[0m         \"cfa_type\": \"dr\"\n",
      "\u001b[36malgo-1-5ifjj_1_5626eae89128 |\u001b[0m     },\n",
      "\u001b[36malgo-1-5ifjj_1_5626eae89128 |\u001b[0m     \"input_config_dir\": \"/opt/ml/input/config\",\n",
      "\u001b[36malgo-1-5ifjj_1_5626eae89128 |\u001b[0m     \"input_data_config\": {},\n",
      "\u001b[36malgo-1-5ifjj_1_5626eae89128 |\u001b[0m     \"input_dir\": \"/opt/ml/input\",\n",
      "\u001b[36malgo-1-5ifjj_1_5626eae89128 |\u001b[0m     \"is_master\": true,\n",
      "\u001b[36malgo-1-5ifjj_1_5626eae89128 |\u001b[0m     \"job_name\": \"bandits-movielens-3-model-id-1574805631\",\n",
      "\u001b[36malgo-1-5ifjj_1_5626eae89128 |\u001b[0m     \"log_level\": 20,\n",
      "\u001b[36malgo-1-5ifjj_1_5626eae89128 |\u001b[0m     \"master_hostname\": \"algo-1-5ifjj\",\n",
      "\u001b[36malgo-1-5ifjj_1_5626eae89128 |\u001b[0m     \"model_dir\": \"/opt/ml/model\",\n",
      "\u001b[36malgo-1-5ifjj_1_5626eae89128 |\u001b[0m     \"module_dir\": \"s3://sagemaker-us-west-2-609956480270/bandits-movielens-3/training_jobs/bandits-movielens-3-model-id-1574805631/source/sourcedir.tar.gz\",\n",
      "\u001b[36malgo-1-5ifjj_1_5626eae89128 |\u001b[0m     \"module_name\": \"train-vw\",\n",
      "\u001b[36malgo-1-5ifjj_1_5626eae89128 |\u001b[0m     \"network_interface_name\": \"eth0\",\n",
      "\u001b[36malgo-1-5ifjj_1_5626eae89128 |\u001b[0m     \"num_cpus\": 2,\n",
      "\u001b[36malgo-1-5ifjj_1_5626eae89128 |\u001b[0m     \"num_gpus\": 0,\n",
      "\u001b[36malgo-1-5ifjj_1_5626eae89128 |\u001b[0m     \"output_data_dir\": \"/opt/ml/output/data\",\n",
      "\u001b[36malgo-1-5ifjj_1_5626eae89128 |\u001b[0m     \"output_dir\": \"/opt/ml/output\",\n",
      "\u001b[36malgo-1-5ifjj_1_5626eae89128 |\u001b[0m     \"output_intermediate_dir\": \"/opt/ml/output/intermediate\",\n",
      "\u001b[36malgo-1-5ifjj_1_5626eae89128 |\u001b[0m     \"resource_config\": {\n",
      "\u001b[36malgo-1-5ifjj_1_5626eae89128 |\u001b[0m         \"current_host\": \"algo-1-5ifjj\",\n",
      "\u001b[36malgo-1-5ifjj_1_5626eae89128 |\u001b[0m         \"hosts\": [\n",
      "\u001b[36malgo-1-5ifjj_1_5626eae89128 |\u001b[0m             \"algo-1-5ifjj\"\n",
      "\u001b[36malgo-1-5ifjj_1_5626eae89128 |\u001b[0m         ]\n",
      "\u001b[36malgo-1-5ifjj_1_5626eae89128 |\u001b[0m     },\n",
      "\u001b[36malgo-1-5ifjj_1_5626eae89128 |\u001b[0m     \"user_entry_point\": \"train-vw.py\"\n",
      "\u001b[36malgo-1-5ifjj_1_5626eae89128 |\u001b[0m }\n",
      "\u001b[36malgo-1-5ifjj_1_5626eae89128 |\u001b[0m \n",
      "\u001b[36malgo-1-5ifjj_1_5626eae89128 |\u001b[0m Environment variables:\n",
      "\u001b[36malgo-1-5ifjj_1_5626eae89128 |\u001b[0m \n",
      "\u001b[36malgo-1-5ifjj_1_5626eae89128 |\u001b[0m SM_HOSTS=[\"algo-1-5ifjj\"]\n",
      "\u001b[36malgo-1-5ifjj_1_5626eae89128 |\u001b[0m SM_NETWORK_INTERFACE_NAME=eth0\n",
      "\u001b[36malgo-1-5ifjj_1_5626eae89128 |\u001b[0m SM_HPS={\"arm_features\":true,\"cfa_type\":\"dr\",\"epsilon\":0.01,\"exploration_policy\":\"regcbopt\",\"num_arms\":7,\"num_policies\":3}\n",
      "\u001b[36malgo-1-5ifjj_1_5626eae89128 |\u001b[0m SM_USER_ENTRY_POINT=train-vw.py\n",
      "\u001b[36malgo-1-5ifjj_1_5626eae89128 |\u001b[0m SM_FRAMEWORK_PARAMS={\"sagemaker_estimator\":\"RLEstimator\"}\n",
      "\u001b[36malgo-1-5ifjj_1_5626eae89128 |\u001b[0m SM_RESOURCE_CONFIG={\"current_host\":\"algo-1-5ifjj\",\"hosts\":[\"algo-1-5ifjj\"]}\n",
      "\u001b[36malgo-1-5ifjj_1_5626eae89128 |\u001b[0m SM_INPUT_DATA_CONFIG={}\n",
      "\u001b[36malgo-1-5ifjj_1_5626eae89128 |\u001b[0m SM_OUTPUT_DATA_DIR=/opt/ml/output/data\n",
      "\u001b[36malgo-1-5ifjj_1_5626eae89128 |\u001b[0m SM_CHANNELS=[]\n",
      "\u001b[36malgo-1-5ifjj_1_5626eae89128 |\u001b[0m SM_CURRENT_HOST=algo-1-5ifjj\n",
      "\u001b[36malgo-1-5ifjj_1_5626eae89128 |\u001b[0m SM_MODULE_NAME=train-vw\n",
      "\u001b[36malgo-1-5ifjj_1_5626eae89128 |\u001b[0m SM_LOG_LEVEL=20\n",
      "\u001b[36malgo-1-5ifjj_1_5626eae89128 |\u001b[0m SM_FRAMEWORK_MODULE=\n",
      "\u001b[36malgo-1-5ifjj_1_5626eae89128 |\u001b[0m SM_INPUT_DIR=/opt/ml/input\n",
      "\u001b[36malgo-1-5ifjj_1_5626eae89128 |\u001b[0m SM_INPUT_CONFIG_DIR=/opt/ml/input/config\n",
      "\u001b[36malgo-1-5ifjj_1_5626eae89128 |\u001b[0m SM_OUTPUT_DIR=/opt/ml/output\n",
      "\u001b[36malgo-1-5ifjj_1_5626eae89128 |\u001b[0m SM_NUM_CPUS=2\n",
      "\u001b[36malgo-1-5ifjj_1_5626eae89128 |\u001b[0m SM_NUM_GPUS=0\n",
      "\u001b[36malgo-1-5ifjj_1_5626eae89128 |\u001b[0m SM_MODEL_DIR=/opt/ml/model\n",
      "\u001b[36malgo-1-5ifjj_1_5626eae89128 |\u001b[0m SM_MODULE_DIR=s3://sagemaker-us-west-2-609956480270/bandits-movielens-3/training_jobs/bandits-movielens-3-model-id-1574805631/source/sourcedir.tar.gz\n",
      "\u001b[36malgo-1-5ifjj_1_5626eae89128 |\u001b[0m SM_TRAINING_ENV={\"additional_framework_parameters\":{\"sagemaker_estimator\":\"RLEstimator\"},\"channel_input_dirs\":{},\"current_host\":\"algo-1-5ifjj\",\"framework_module\":null,\"hosts\":[\"algo-1-5ifjj\"],\"hyperparameters\":{\"arm_features\":true,\"cfa_type\":\"dr\",\"epsilon\":0.01,\"exploration_policy\":\"regcbopt\",\"num_arms\":7,\"num_policies\":3},\"input_config_dir\":\"/opt/ml/input/config\",\"input_data_config\":{},\"input_dir\":\"/opt/ml/input\",\"is_master\":true,\"job_name\":\"bandits-movielens-3-model-id-1574805631\",\"log_level\":20,\"master_hostname\":\"algo-1-5ifjj\",\"model_dir\":\"/opt/ml/model\",\"module_dir\":\"s3://sagemaker-us-west-2-609956480270/bandits-movielens-3/training_jobs/bandits-movielens-3-model-id-1574805631/source/sourcedir.tar.gz\",\"module_name\":\"train-vw\",\"network_interface_name\":\"eth0\",\"num_cpus\":2,\"num_gpus\":0,\"output_data_dir\":\"/opt/ml/output/data\",\"output_dir\":\"/opt/ml/output\",\"output_intermediate_dir\":\"/opt/ml/output/intermediate\",\"resource_config\":{\"current_host\":\"algo-1-5ifjj\",\"hosts\":[\"algo-1-5ifjj\"]},\"user_entry_point\":\"train-vw.py\"}\n",
      "\u001b[36malgo-1-5ifjj_1_5626eae89128 |\u001b[0m SM_USER_ARGS=[\"--arm_features\",\"True\",\"--cfa_type\",\"dr\",\"--epsilon\",\"0.01\",\"--exploration_policy\",\"regcbopt\",\"--num_arms\",\"7\",\"--num_policies\",\"3\"]\n",
      "\u001b[36malgo-1-5ifjj_1_5626eae89128 |\u001b[0m SM_OUTPUT_INTERMEDIATE_DIR=/opt/ml/output/intermediate\n",
      "\u001b[36malgo-1-5ifjj_1_5626eae89128 |\u001b[0m SM_HP_EXPLORATION_POLICY=regcbopt\n",
      "\u001b[36malgo-1-5ifjj_1_5626eae89128 |\u001b[0m SM_HP_EPSILON=0.01\n",
      "\u001b[36malgo-1-5ifjj_1_5626eae89128 |\u001b[0m SM_HP_NUM_POLICIES=3\n",
      "\u001b[36malgo-1-5ifjj_1_5626eae89128 |\u001b[0m SM_HP_ARM_FEATURES=true\n",
      "\u001b[36malgo-1-5ifjj_1_5626eae89128 |\u001b[0m SM_HP_NUM_ARMS=7\n",
      "\u001b[36malgo-1-5ifjj_1_5626eae89128 |\u001b[0m SM_HP_CFA_TYPE=dr\n",
      "\u001b[36malgo-1-5ifjj_1_5626eae89128 |\u001b[0m PYTHONPATH=/opt/ml/code:/usr/local/bin:/vowpal_wabbit/python:/vowpal_wabbit/build/python:/usr/lib/python36.zip:/usr/lib/python3.6:/usr/lib/python3.6/lib-dynload:/usr/local/lib/python3.6/dist-packages:/usr/lib/python3/dist-packages\n",
      "\u001b[36malgo-1-5ifjj_1_5626eae89128 |\u001b[0m \n",
      "\u001b[36malgo-1-5ifjj_1_5626eae89128 |\u001b[0m Invoking script with the following command:\n",
      "\u001b[36malgo-1-5ifjj_1_5626eae89128 |\u001b[0m \n",
      "\u001b[36malgo-1-5ifjj_1_5626eae89128 |\u001b[0m /usr/bin/python train-vw.py --arm_features True --cfa_type dr --epsilon 0.01 --exploration_policy regcbopt --num_arms 7 --num_policies 3\n",
      "\u001b[36malgo-1-5ifjj_1_5626eae89128 |\u001b[0m \n",
      "\u001b[36malgo-1-5ifjj_1_5626eae89128 |\u001b[0m \n",
      "\u001b[36malgo-1-5ifjj_1_5626eae89128 |\u001b[0m INFO:root:channels []\n",
      "\u001b[36malgo-1-5ifjj_1_5626eae89128 |\u001b[0m INFO:root:hps: {'arm_features': True, 'cfa_type': 'dr', 'epsilon': 0.01, 'exploration_policy': 'regcbopt', 'num_arms': 7, 'num_policies': 3}\n",
      "\u001b[36malgo-1-5ifjj_1_5626eae89128 |\u001b[0m INFO:root:No training data found. Saving a randomly initialized model!\n",
      "\u001b[36malgo-1-5ifjj_1_5626eae89128 |\u001b[0m INFO:vw_model.VWModel:creating an instance of VWModel\n",
      "\u001b[36malgo-1-5ifjj_1_5626eae89128 |\u001b[0m INFO:vw_model.VWModel:successfully created VWModel\n",
      "\u001b[36malgo-1-5ifjj_1_5626eae89128 |\u001b[0m INFO:vw_model.VWModel:command: ['vw', '--cb_explore_adf', '--cb_type', 'mtr', '--regcbopt', '--mellowness', '0.01', '-p', '/dev/stdout', '-q', 'sd', '-f', '/opt/ml/model/vw.model', '--save_resume']\n",
      "\u001b[36malgo-1-5ifjj_1_5626eae89128 |\u001b[0m INFO:vw_model.VWModel:Started VW process!\n",
      "\u001b[36malgo-1-5ifjj_1_5626eae89128 |\u001b[0m 2019-11-26 22:00:36,798 sagemaker-containers INFO     Reporting training SUCCESS\n",
      "\u001b[36mtmpq54systp_algo-1-5ifjj_1_5626eae89128 exited with code 0\n",
      "\u001b[0mAborting on container exit...\n",
      "===== Job Complete =====\n"
     ]
    }
   ],
   "source": [
    "bandits_experiment.initialize_first_model() "
   ]
  },
  {
   "cell_type": "markdown",
   "metadata": {},
   "source": [
    "#### 2. Deploy the First Model"
   ]
  },
  {
   "cell_type": "markdown",
   "metadata": {},
   "source": [
    "Once training and evaluation is done, we can deploy the model."
   ]
  },
  {
   "cell_type": "code",
   "execution_count": null,
   "metadata": {},
   "outputs": [],
   "source": [
    "bandits_experiment.deploy_model(model_id=bandits_experiment.last_trained_model_id)"
   ]
  },
  {
   "cell_type": "markdown",
   "metadata": {},
   "source": [
    "You can check the experiment state at any point by executing:"
   ]
  },
  {
   "cell_type": "code",
   "execution_count": null,
   "metadata": {},
   "outputs": [],
   "source": [
    "bandits_experiment._jsonify()"
   ]
  },
  {
   "cell_type": "markdown",
   "metadata": {},
   "source": [
    "The model just trained appears in both `last_trained_model_id` and `last_hosted_model_id`."
   ]
  },
  {
   "cell_type": "markdown",
   "metadata": {},
   "source": [
    "#### 3. Use the deployed model to generate recommendations"
   ]
  },
  {
   "cell_type": "markdown",
   "metadata": {},
   "source": [
    "Now that the last trained model is hosted, we can send out the user and items embedding, and receive the recommended action."
   ]
  },
  {
   "cell_type": "code",
   "execution_count": 19,
   "metadata": {},
   "outputs": [],
   "source": [
    "predictor = bandits_experiment.predictor"
   ]
  },
  {
   "cell_type": "code",
   "execution_count": 15,
   "metadata": {},
   "outputs": [],
   "source": [
    "obs = env.reset()\n",
    "user_embedding = obs[0].tolist() if obs[0] else []\n",
    "items_embedding = obs[1].tolist()\n",
    "user_id = env.current_user_id"
   ]
  },
  {
   "cell_type": "code",
   "execution_count": 21,
   "metadata": {},
   "outputs": [],
   "source": [
    "# Initialize a train buffer to store reward and the corresponding user and item embedding for training\n",
    "train_buffer = []\n",
    "\n",
    "# Initialize rewards and regret buffer to store all the rewards and regret for plotting the performance of bandit over time\n",
    "all_regrets = []\n",
    "all_regrets_random_actions = []"
   ]
  },
  {
   "cell_type": "code",
   "execution_count": 17,
   "metadata": {},
   "outputs": [
    {
     "name": "stdout",
     "output_type": "stream",
     "text": [
      "Selected actions: [0, 1, 2, 3, 4], event ID: 229344638809753845684527396301617364994, model ID: bandits-movielens-2-model-id-1574804499, probability: [1.0, 1.0, 1.0, 1.0, 1.0]\n"
     ]
    }
   ],
   "source": [
    "actions, event_id, model_id, action_probs, sample_prob = predictor.get_actions(shared_context=user_embedding,\n",
    "                                                                               actions_context=items_embedding,\n",
    "                                                                               top_k=top_k,\n",
    "                                                                               user_id=user_id)\n",
    "    \n",
    "# Check prediction response by uncommenting the lines below\n",
    "print('Selected actions: {}, event ID: {}, model ID: {}, probability: {}'.format(actions,\n",
    "                                                                                event_id,\n",
    "                                                                                model_id,\n",
    "                                                                                action_probs))"
   ]
  },
  {
   "cell_type": "markdown",
   "metadata": {},
   "source": [
    "#### 4. Reward Ingestion"
   ]
  },
  {
   "cell_type": "markdown",
   "metadata": {},
   "source": [
    "Client application generates a reward after receiving the recommended action and stores the tuple `<eventID, reward>` in S3. In this case, reward is 1 if predicted action is the true class, and 0 otherwise. SageMaker hosting endpoint saves all the inferences `<eventID, shared_context, actions_context, action, action probability>` to S3 using [Kinesis Firehose](https://aws.amazon.com/kinesis/data-firehose/). The experiment manager joins the reward with state, action and action probability using [Amazon Athena](https://aws.amazon.com/athena/). "
   ]
  },
  {
   "cell_type": "code",
   "execution_count": 18,
   "metadata": {},
   "outputs": [
    {
     "name": "stdout",
     "output_type": "stream",
     "text": [
      "Collecting batch of experience data...\n"
     ]
    },
    {
     "name": "stderr",
     "output_type": "stream",
     "text": [
      "INFO:orchestrator:Started dummy local joining job...\n",
      "INFO:orchestrator:Splitting data into train/evaluation set with ratio of 1\n",
      "INFO:orchestrator:Joined data will be stored under s3://sagemaker-us-west-2-609956480270/bandits-movielens-2/joined_data/bandits-movielens-2-join-job-id-1574804576\n"
     ]
    }
   ],
   "source": [
    "local_mode = bandits_experiment.local_mode\n",
    "batch_size = 400 # collect 100 data instances\n",
    "print(\"Collecting batch of experience data...\")\n",
    "\n",
    "obs = env.reset()\n",
    "\n",
    "# Generate experiences and log them\n",
    "for i in range(batch_size):\n",
    "    user_embedding = obs[0].tolist() if obs[0] else []\n",
    "    items_embedding = obs[1].tolist()\n",
    "    user_id = env.current_user_id\n",
    "    actions, event_id, model_id, action_probs, sample_prob = predictor.get_actions(shared_context=user_embedding,\n",
    "                                                                                   actions_context=items_embedding,\n",
    "                                                                                   top_k=top_k,\n",
    "                                                                                   user_id=user_id)\n",
    "    obs, rewards, done, info = env.step(actions)\n",
    "    \n",
    "    for index, reward in enumerate(rewards):\n",
    "        # Store feedback in train_buffer\n",
    "        blob = {\"reward\": reward,\n",
    "                 \"event_id\": event_id,\n",
    "                 \"action\": actions[index],\n",
    "                 \"action_prob\": action_probs[index],\n",
    "                 \"model_id\": model_id,\n",
    "                 \"shared_context\": user_embedding,\n",
    "                 \"actions_context\": items_embedding,\n",
    "                 \"user_id\": user_id,\n",
    "                 \"sample_prob\": sample_prob}\n",
    "        train_buffer.append(blob)\n",
    "    all_regrets.append(info[\"total_regret\"])\n",
    "    all_regrets_random_actions.append(info[\"total_random_regret\"])\n",
    "    \n",
    "# Join (observation, action) with rewards (can be delayed) and upload the data to S3\n",
    "if local_mode:\n",
    "    bandits_experiment.ingest_joined_data(train_buffer, ratio=1)\n",
    "else:\n",
    "    print(\"Waiting for firehose to flush data to s3...\")\n",
    "    time.sleep(60) # Wait for firehose to flush data to S3\n",
    "    rewards_s3_prefix = bandits_experiment.ingest_rewards(train_buffer)\n",
    "    bandits_experiment.join(rewards_s3_prefix)\n",
    "    \n",
    "train_buffer[:] = []"
   ]
  },
  {
   "cell_type": "code",
   "execution_count": 19,
   "metadata": {},
   "outputs": [
    {
     "data": {
      "text/plain": [
       "'s3://sagemaker-us-west-2-609956480270/bandits-movielens-2/joined_data/bandits-movielens-2-join-job-id-1574804576/train'"
      ]
     },
     "execution_count": 19,
     "metadata": {},
     "output_type": "execute_result"
    }
   ],
   "source": [
    "bandits_experiment.last_joined_job_train_data"
   ]
  },
  {
   "cell_type": "code",
   "execution_count": 20,
   "metadata": {},
   "outputs": [
    {
     "data": {
      "text/plain": [
       "{'experiment_id': 'bandits-movielens-2',\n",
       " 'training_workflow_metadata': {'next_model_to_train_id': None,\n",
       "  'last_trained_model_id': 'bandits-movielens-2-model-id-1574804499',\n",
       "  'training_state': 'TRAINED'},\n",
       " 'hosting_workflow_metadata': {'hosting_endpoint': 'local:arn-does-not-matter',\n",
       "  'hosting_state': 'DEPLOYED',\n",
       "  'last_hosted_model_id': 'bandits-movielens-2-model-id-1574804499',\n",
       "  'next_model_to_host_id': None},\n",
       " 'joining_workflow_metadata': {'joining_state': 'SUCCEEDED',\n",
       "  'last_joined_job_id': 'bandits-movielens-2-join-job-id-1574804576',\n",
       "  'next_join_job_id': None},\n",
       " 'evaluation_workflow_metadata': {'evaluation_state': None,\n",
       "  'last_evaluation_job_id': None,\n",
       "  'next_evaluation_job_id': None}}"
      ]
     },
     "execution_count": 20,
     "metadata": {},
     "output_type": "execute_result"
    }
   ],
   "source": [
    "# Check the workflow to see if join job has completed successfully\n",
    "bandits_experiment._jsonify()"
   ]
  },
  {
   "cell_type": "markdown",
   "metadata": {},
   "source": [
    "#### 5. Model Re-training and Re-deployment"
   ]
  },
  {
   "cell_type": "markdown",
   "metadata": {},
   "source": [
    "Now we can train a new model with newly collected experiences, and host the resulting model."
   ]
  },
  {
   "cell_type": "code",
   "execution_count": null,
   "metadata": {},
   "outputs": [],
   "source": [
    "bandits_experiment.train_next_model(input_data_s3_prefix=bandits_experiment.last_joined_job_train_data)"
   ]
  },
  {
   "cell_type": "code",
   "execution_count": 22,
   "metadata": {},
   "outputs": [
    {
     "data": {
      "text/plain": [
       "'bandits-movielens-2-model-id-1574804594'"
      ]
     },
     "execution_count": 22,
     "metadata": {},
     "output_type": "execute_result"
    }
   ],
   "source": [
    "bandits_experiment.last_trained_model_id"
   ]
  },
  {
   "cell_type": "code",
   "execution_count": null,
   "metadata": {},
   "outputs": [],
   "source": [
    "# deployment takes ~10 min if `local_mode` is False\n",
    "bandits_experiment.deploy_model(model_id=bandits_experiment.last_trained_model_id)"
   ]
  },
  {
   "cell_type": "code",
   "execution_count": 24,
   "metadata": {},
   "outputs": [
    {
     "data": {
      "text/plain": [
       "'bandits-movielens-2-model-id-1574804594'"
      ]
     },
     "execution_count": 24,
     "metadata": {},
     "output_type": "execute_result"
    }
   ],
   "source": [
    "bandits_experiment.last_hosted_model_id"
   ]
  },
  {
   "cell_type": "markdown",
   "metadata": {},
   "source": [
    "### Bandits model deployment with the end-to-end loop"
   ]
  },
  {
   "cell_type": "markdown",
   "metadata": {},
   "source": [
    "The above cells explained the individual steps in the training workflow. To train a model to convergence, we will continually train the model based on data collected with client application interactions. We demonstrate the continual training loop in a single cell below.\n",
    "\n",
    "Details of each joining and training job can be tracked in `join_db` and `model_db` respectively. `model_db` also stores the evaluation scores. When you have multiple experiments, you can check their status in `experiment_db`."
   ]
  },
  {
   "cell_type": "code",
   "execution_count": null,
   "metadata": {},
   "outputs": [],
   "source": [
    "start_time = time.time()\n",
    "total_loops = 10 # Increase for higher accuracy\n",
    "batch_size = 150 # Model will be trained after every 150 data instances\n",
    "\n",
    "obs = env.reset()\n",
    "\n",
    "local_mode = bandits_experiment.local_mode\n",
    "for loop_no in range(total_loops):\n",
    "    print(f\"\"\"\n",
    "    #################\n",
    "    #################\n",
    "         Loop {loop_no+1}\n",
    "    #################\n",
    "    #################\n",
    "    \"\"\")\n",
    "\n",
    "    \n",
    "    for i in range(batch_size):\n",
    "        user_embedding = obs[0].tolist() if obs[0] else []\n",
    "        items_embedding = obs[1].tolist()\n",
    "        user_id = env.current_user_id\n",
    "        actions, event_id, model_id, action_probs, sample_prob = predictor.get_actions(shared_context=user_embedding,\n",
    "                                                                                       actions_context=items_embedding,\n",
    "                                                                                       top_k=top_k,\n",
    "                                                                                       user_id=user_id)\n",
    "        obs, rewards, _, info = env.step(actions)\n",
    "\n",
    "        for index, reward in enumerate(rewards):\n",
    "            # Store feedback in train_buffer\n",
    "            blob = {\"reward\": reward,\n",
    "                     \"event_id\": event_id,\n",
    "                     \"action\": actions[index],\n",
    "                     \"action_prob\": action_probs[index],\n",
    "                     \"model_id\": model_id,\n",
    "                     \"shared_context\": user_embedding,\n",
    "                     \"actions_context\": items_embedding,\n",
    "                     \"user_id\": user_id,\n",
    "                     \"sample_prob\": sample_prob}\n",
    "            train_buffer.append(blob)\n",
    "            \n",
    "        all_regrets.append(info[\"total_regret\"])\n",
    "        all_regrets_random_actions.append(info[\"total_random_regret\"])\n",
    "    \n",
    "    # Local/Athena join\n",
    "    if local_mode:\n",
    "        bandits_experiment.ingest_joined_data(train_buffer,ratio=1)\n",
    "    else:\n",
    "        print(\"Waiting for firehose to flush data to s3...\")\n",
    "        time.sleep(60) \n",
    "        rewards_s3_prefix = bandits_experiment.ingest_rewards(train_buffer)\n",
    "        bandits_experiment.join(rewards_s3_prefix, ratio=1)\n",
    "    \n",
    "    # Train \n",
    "    bandits_experiment.train_next_model(input_data_s3_prefix=bandits_experiment.last_joined_job_train_data)\n",
    "\n",
    "    bandits_experiment.deploy_model(model_id=bandits_experiment.last_trained_model_id)\n",
    "    \n",
    "    train_buffer[:] = []\n",
    "\n",
    "print(f\"Total time taken to complete {total_loops} loops: {time.time() - start_time}\")"
   ]
  },
  {
   "cell_type": "markdown",
   "metadata": {},
   "source": [
    "### Visualization"
   ]
  },
  {
   "cell_type": "markdown",
   "metadata": {},
   "source": [
    "You can visualize the model performance along the training loop by plotting the cumulative regret across client interactions. Regret is defined as the difference between the optimal reward and the actual reward obtained by the agent at each time step.\n",
    "\n",
    "> Note: The plot below cannot be generated if the notebook has been restarted after the execution of the cell above. \n",
    "\n"
   ]
  },
  {
   "cell_type": "code",
   "execution_count": 23,
   "metadata": {},
   "outputs": [],
   "source": [
    "import matplotlib.pyplot as plt\n",
    "%matplotlib inline"
   ]
  },
  {
   "cell_type": "code",
   "execution_count": 24,
   "metadata": {},
   "outputs": [
    {
     "data": {
      "image/png": "[encoded data removed]",
      "text/plain": [
       "<Figure size 432x288 with 1 Axes>"
      ]
     },
     "metadata": {
      "needs_background": "light"
     },
     "output_type": "display_data"
    }
   ],
   "source": [
    "plt.plot(all_regrets, label=\"Ranking Bandit\")\n",
    "plt.plot(all_regrets_random_actions, label=\"Random\")\n",
    "\n",
    "plt.legend(loc=4, prop={'size': 10},)\n",
    "plt.tick_params(axis='both', which='major', labelsize=10)\n",
    "plt.xlabel('Data instances (models were updated every %s data instances)' % batch_size, size=10)\n",
    "plt.ylabel('Cumulative Regret', size=10)\n",
    "plt.grid()\n",
    "plt.show()"
   ]
  },
  {
   "cell_type": "markdown",
   "metadata": {},
   "source": [
    "As we can see from the graph, the bandit agent learns the user preferences over time and performs much better than picking movies randomly from the candidate list."
   ]
  },
  {
   "cell_type": "markdown",
   "metadata": {},
   "source": [
    "### Clean up"
   ]
  },
  {
   "cell_type": "markdown",
   "metadata": {},
   "source": [
    "We have three DynamoDB tables (experiment, join, model) from the bandits application above (e.g. `experiment_id='bandits-exp-1'`). To better maintain them, we should remove the related records if the experiment has finished. Besides, having an endpoint running will incur costs. Therefore, we delete these components as part of the clean up process.\n",
    "\n",
    "> Only execute the clean up cells below when you've finished the current experiment and want to deprecate everything associated with it. After the cleanup, the Cloudwatch metrics will not be populated anymore."
   ]
  },
  {
   "cell_type": "code",
   "execution_count": null,
   "metadata": {},
   "outputs": [],
   "source": [
    "bandits_experiment.clean_resource(experiment_id=bandits_experiment.experiment_id)"
   ]
  },
  {
   "cell_type": "code",
   "execution_count": null,
   "metadata": {},
   "outputs": [],
   "source": [
    "bandits_experiment.clean_table_records(experiment_id=bandits_experiment.experiment_id)"
   ]
  },
  {
   "cell_type": "markdown",
   "metadata": {},
   "source": [
    "## Local testing"
   ]
  },
  {
   "cell_type": "markdown",
   "metadata": {},
   "source": [
    "Use the cell below for fast testing. VW C++ CLI should be installed on your machine for this to work."
   ]
  },
  {
   "cell_type": "code",
   "execution_count": 10,
   "metadata": {},
   "outputs": [],
   "source": [
    "env = MovieLens100KEnv(data_dir=\"./ml-100k\", item_pool_size=item_pool_size, top_k=top_k, max_users=100)"
   ]
  },
  {
   "cell_type": "code",
   "execution_count": 25,
   "metadata": {},
   "outputs": [
    {
     "data": {
      "text/plain": [
       "[<matplotlib.lines.Line2D at 0x1159a0320>]"
      ]
     },
     "execution_count": 25,
     "metadata": {},
     "output_type": "execute_result"
    },
    {
     "data": {
      "image/png": "[encoded data removed]",
      "text/plain": [
       "<Figure size 432x288 with 1 Axes>"
      ]
     },
     "metadata": {
      "needs_background": "light"
     },
     "output_type": "display_data"
    }
   ],
   "source": [
    "from src.vw_agent import VWAgent\n",
    "\n",
    "agent = VWAgent(cli_args=\"--cb_explore_adf --cb_type mtr --regcbopt --mellowness 0.01\")\n",
    "\n",
    "# Start the VW C++ process\n",
    "agent.start()\n",
    "\n",
    "\n",
    "all_regrets = []\n",
    "all_regrets_random = []\n",
    "\n",
    "done = False\n",
    "num_iterations = 4000\n",
    "all_scores_str = []\n",
    "\n",
    "obs = env.reset()\n",
    "\n",
    "for i in range(num_iterations):\n",
    "    done = False\n",
    "\n",
    "    user, items = obs\n",
    "    current_user_id = env.current_user_id\n",
    "\n",
    "\n",
    "    actions, probs = agent.choose_actions(user, items, top_k=5, user_id=current_user_id)\n",
    "\n",
    "    # Execute the action to step the environment\n",
    "    obs, rewards, done, info = env.step(actions)\n",
    "    all_regrets.append(info[\"total_regret\"])\n",
    "    all_regrets_random.append(info[\"total_random_regret\"])\n",
    "\n",
    "    for index, reward in enumerate(rewards):\n",
    "        agent.learn(user, items, action_index=actions[index], reward=reward,\n",
    "                        action_prob=probs[index], cost_fn= lambda reward: -reward, user_id=current_user_id)\n",
    "\n",
    "\n",
    "plt.plot(all_regrets)\n",
    "plt.plot(all_regrets_random)"
   ]
  },
  {
   "cell_type": "code",
   "execution_count": null,
   "metadata": {},
   "outputs": [],
   "source": [
    "agent.close()"
   ]
  },
  {
   "cell_type": "code",
   "execution_count": null,
   "metadata": {},
   "outputs": [],
   "source": []
  }
 ],
 "metadata": {
  "hide_input": false,
  "kernelspec": {
   "display_name": "Python 3",
   "language": "python",
   "name": "python3"
  },
  "language_info": {
   "codemirror_mode": {
    "name": "ipython",
    "version": 3
   },
   "file_extension": ".py",
   "mimetype": "text/x-python",
   "name": "python",
   "nbconvert_exporter": "python",
   "pygments_lexer": "ipython3",
   "version": "3.6.8"
  },
  "toc": {
   "base_numbering": 1,
   "nav_menu": {},
   "number_sections": true,
   "sideBar": true,
   "skip_h1_title": false,
   "title_cell": "Table of Contents",
   "title_sidebar": "Contents",
   "toc_cell": false,
   "toc_position": {
    "height": "calc(100% - 180px)",
    "left": "10px",
    "top": "150px",
    "width": "550.4px"
   },
   "toc_section_display": true,
   "toc_window_display": false
  },
  "varInspector": {
   "cols": {
    "lenName": 16,
    "lenType": 16,
    "lenVar": 40
   },
   "kernels_config": {
    "python": {
     "delete_cmd_postfix": "",
     "delete_cmd_prefix": "del ",
     "library": "var_list.py",
     "varRefreshCmd": "print(var_dic_list())"
    },
    "r": {
     "delete_cmd_postfix": ") ",
     "delete_cmd_prefix": "rm(",
     "library": "var_list.r",
     "varRefreshCmd": "cat(var_dic_list()) "
    }
   },
   "types_to_exclude": [
    "module",
    "function",
    "builtin_function_or_method",
    "instance",
    "_Feature"
   ],
   "window_display": false
  }
 },
 "nbformat": 4,
 "nbformat_minor": 4
}
